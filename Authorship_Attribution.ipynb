{
  "nbformat": 4,
  "nbformat_minor": 0,
  "metadata": {
    "colab": {
      "provenance": []
    },
    "kernelspec": {
      "name": "python3",
      "display_name": "Python 3"
    },
    "language_info": {
      "name": "python"
    }
  },
  "cells": [
    {
      "cell_type": "markdown",
      "source": [
        "# Preparation"
      ],
      "metadata": {
        "id": "tUqMdyOv_oMR"
      }
    },
    {
      "cell_type": "code",
      "execution_count": null,
      "metadata": {
        "id": "mSDuPMjS_T1e"
      },
      "outputs": [],
      "source": [
        "# Show current GPU\n",
        "from tensorflow.python.client import device_lib\n",
        "device_lib.list_local_devices()"
      ]
    },
    {
      "cell_type": "code",
      "source": [
        "# Mount Google drive (optional, if you want to save the data here in case the environment disconnects)\n",
        "from google.colab import drive\n",
        "drive.mount('/content/drive', force_remount=True)\n",
        "!ls \"/content/drive/My Drive/DP\""
      ],
      "metadata": {
        "id": "sLHFthFYQbpS"
      },
      "execution_count": null,
      "outputs": []
    },
    {
      "cell_type": "code",
      "source": [
        "# Load tokens into environment from Google Colab User Data\n",
        "import os\n",
        "from google.colab import userdata\n",
        "os.environ['HF_TOKEN'] = userdata.get('HF_TOKEN')"
      ],
      "metadata": {
        "id": "Mk7wd3AugCk6"
      },
      "execution_count": null,
      "outputs": []
    },
    {
      "cell_type": "code",
      "source": [
        "# Clone the repository\n",
        "! rm -rf masters-thesis\n",
        "! git clone https://github.com/therazix/masters-thesis.git"
      ],
      "metadata": {
        "id": "s3TkaZL6_skT"
      },
      "execution_count": null,
      "outputs": []
    },
    {
      "cell_type": "code",
      "source": [
        "# Install requirements.\n",
        "! pip install -r masters-thesis/requirements.txt\n",
        "# If the session restart is requested, restart the session and run this cell again."
      ],
      "metadata": {
        "id": "YijluX87_wXL"
      },
      "execution_count": null,
      "outputs": []
    },
    {
      "cell_type": "code",
      "source": [
        "# You can always use --help for each subcommand to show help."
      ],
      "metadata": {
        "id": "cBBOCoOgGvB7"
      },
      "execution_count": null,
      "outputs": []
    },
    {
      "cell_type": "markdown",
      "source": [
        "# Data scraping"
      ],
      "metadata": {
        "id": "FJpDAyIqAHJ2"
      }
    },
    {
      "cell_type": "code",
      "source": [
        "# Scrape CSFD website\n",
        "!python masters-thesis/main.py -v scrape csfd -o \"scraped_data/csfd\" --limit 6000"
      ],
      "metadata": {
        "id": "APtJVqD_AGbe"
      },
      "execution_count": null,
      "outputs": []
    },
    {
      "cell_type": "code",
      "source": [
        "# Scrape Reddit website\n",
        "!python masters-thesis/main.py -v scrape reddit -o \"scraped_data/reddit\""
      ],
      "metadata": {
        "id": "2MMH_mriFn4A"
      },
      "execution_count": null,
      "outputs": []
    },
    {
      "cell_type": "code",
      "source": [
        "# Scrape Reddit website\n",
        "!python masters-thesis/main.py -v scrape tn-cz -o \"scraped_data/tn-cz\" --limit 1000"
      ],
      "metadata": {
        "id": "U7dK5WjAFvmB"
      },
      "execution_count": null,
      "outputs": []
    },
    {
      "cell_type": "markdown",
      "source": [
        "# Dataset"
      ],
      "metadata": {
        "id": "XN6ThKe6G_6T"
      }
    },
    {
      "cell_type": "markdown",
      "source": [
        "## Create dataset for encoder-only models (XLM-RoBERTa, Ensemble)"
      ],
      "metadata": {
        "id": "aPOqYnZGI29y"
      }
    },
    {
      "cell_type": "code",
      "source": [
        "# Create a dataset from the data that was scraped from CSFD (3 files will be created - training set, validation set, and testing set).\n",
        "# Dataset will have 5 authors and each author will have maximum of 1000 texts.\n",
        "# There will also be added stylometric features (required for Ensemble model).\n",
        "!python masters-thesis/main.py -v dataset create -i \"scraped_data/csfd/csfd_EXAMPLE.csv\" -o \"datasets/csfd/\" -n 5 -l 1000 --add-text-features\n",
        "\n",
        "# You can repeat this process for each dataset"
      ],
      "metadata": {
        "id": "JSutg2_pG_Du"
      },
      "execution_count": null,
      "outputs": []
    },
    {
      "cell_type": "markdown",
      "source": [
        "## Create dataset for decoder-only models (Llama, Mistral, GPT)"
      ],
      "metadata": {
        "id": "HQcWFbVVJqq4"
      }
    },
    {
      "cell_type": "code",
      "source": [
        "# Create a dataset from the data that was scraped from CSFD (1 files will be created - testing set only).\n",
        "# When you specify mutiple repetitions (r), the model will be evaluated r-times during testing and the average number will be calculated.\n",
        "# Each repetition should have different texts.\n",
        "!python masters-thesis/main.py -v dataset create-prompting -i \"scraped_data/csfd/csfd_EXAMPLE.csv\" -o \"datasets/csfd_prompt/\" -n 5 -r 3"
      ],
      "metadata": {
        "id": "tC1qfIMtKHEd"
      },
      "execution_count": null,
      "outputs": []
    },
    {
      "cell_type": "markdown",
      "source": [
        "## Create dataset for fine-tuning decoder-only models (LLama, Mistral)"
      ],
      "metadata": {
        "id": "6BUyeRx8O2As"
      }
    },
    {
      "cell_type": "code",
      "source": [
        "# Create a dataset from the data that was scraped from CSFD (1 files will be created - training set only).\n",
        "!python masters-thesis/main.py -v dataset create-finetuning -i \"scraped_data/csfd/csfd_EXAMPLE.csv\" -o \"datasets/csfd_prompt/\" -n 5 -r 3"
      ],
      "metadata": {
        "id": "jFS10ZMxO0X2"
      },
      "execution_count": null,
      "outputs": []
    },
    {
      "cell_type": "markdown",
      "source": [
        "## Show info about the dataset"
      ],
      "metadata": {
        "id": "3fyGu5QsI6od"
      }
    },
    {
      "cell_type": "code",
      "source": [
        "# The input can either be scraped data, as in this case, or an already parsed dataset. You can also use the optional argument --graph.\n",
        "!python masters-thesis/main.py -v dataset info -i \"scraped_data/csfd/csfd_EXAMPLE.csv\" --graph"
      ],
      "metadata": {
        "id": "-EBzZkOsIy2-"
      },
      "execution_count": null,
      "outputs": []
    },
    {
      "cell_type": "markdown",
      "source": [
        "# Training"
      ],
      "metadata": {
        "id": "jp0Jmu5RQPsW"
      }
    },
    {
      "cell_type": "markdown",
      "source": [
        "# XLM-RoBERTa"
      ],
      "metadata": {
        "id": "CxeZ3DriQS0v"
      }
    },
    {
      "cell_type": "code",
      "source": [
        "# Train the model for 5 authors on CSFD dataset\n",
        "! python masters-thesis/main.py -v train xlm-roberta \\\n",
        "  #--checkpoint \"models/csfd/xlm_roberta_top5/checkpoint-123\" \\  # If you want to continue training from the checkpoint\n",
        "  --training-set \"datasets/csfd/train_top5.csv\" \\\n",
        "  --validation-set \"dataset/csfd/val_top5.csv\" \\\n",
        "  --testing-set \"datasets/csfd/test_top5.csv\" \\  # Testing set is not needed during training, but if provided, the model will automatically evaluate at the end.\n",
        "  -o \"models/csfd/xlm_roberta_top5\" \\\n",
        "  -e 5  # Number of epochs to train"
      ],
      "metadata": {
        "id": "GrLAGBiIQWUr"
      },
      "execution_count": null,
      "outputs": []
    },
    {
      "cell_type": "markdown",
      "source": [
        "## Ensemble"
      ],
      "metadata": {
        "id": "F560ZPPsWXor"
      }
    },
    {
      "cell_type": "code",
      "source": [
        "# Train the model for 5 authors on CSFD dataset\n",
        "! python masters-thesis/main.py -v train ensemble \\\n",
        "  --model \"models/csfd/xlm_roberta_top5/checkpoint-123\" \\  # Saved XLM-RoBERTa model (required)\n",
        "  --training-set \"datasets/csfd/train_top5.csv\" \\\n",
        "  --testing-set \"datasets/csfd/test_top5.csv\" \\  # Testing set is not needed during training, but if provided, the model will automatically evaluate at the end.\n",
        "  -o \"models/csfd/xlm_roberta_top5\""
      ],
      "metadata": {
        "id": "1bj9Bk3oWXKD"
      },
      "execution_count": null,
      "outputs": []
    },
    {
      "cell_type": "markdown",
      "source": [
        "## Llama 3.1"
      ],
      "metadata": {
        "id": "AXGDAfhAW51B"
      }
    },
    {
      "cell_type": "code",
      "source": [
        "# Install the latest version of unsloth\n",
        "!pip install unsloth\n",
        "!pip uninstall unsloth -y && pip install --upgrade --no-cache-dir --no-deps git+https://github.com/unslothai/unsloth.git"
      ],
      "metadata": {
        "id": "x8DQqx3RWxYT"
      },
      "execution_count": null,
      "outputs": []
    },
    {
      "cell_type": "code",
      "source": [
        "# Fine-tune the model\n",
        "! python masters-thesis/main.py -v train llama3 \\\n",
        "  --output-dir \"results/csfd\" \\\n",
        "  --repo-id \"RaZiX/Llama-3.1-8B-Instruct-AA\" \\\n",
        "  --training-set \"datasets/finetune/dataset.csv\" \\\n",
        "  --testing-set \"datasets/csfd/test_prompts_5authors_3reps.csv\" \\\n",
        "  --template \"cz\" \\\n",
        "  --epochs 3"
      ],
      "metadata": {
        "id": "VcwKQd_DXF9Y"
      },
      "execution_count": null,
      "outputs": []
    },
    {
      "cell_type": "markdown",
      "source": [
        "## Mistral v0.3"
      ],
      "metadata": {
        "id": "tb5DNOymazKa"
      }
    },
    {
      "cell_type": "code",
      "source": [
        "# Fine-tune the model\n",
        "! python masters-thesis/main.py -v train mistral \\\n",
        "  --output-dir \"results/csfd\" \\\n",
        "  --repo-id \"RaZiX/Mistral-7B-Instruct-v0.3-AA\" \\\n",
        "  --training-set \"datasets/finetune/dataset.csv\" \\\n",
        "  --testing-set \"datasets/csfd/test_prompts_5authors_3reps.csv\" \\\n",
        "  --template \"cz\" \\\n",
        "  --epochs 3"
      ],
      "metadata": {
        "id": "Z3iZFtIja3C1"
      },
      "execution_count": null,
      "outputs": []
    },
    {
      "cell_type": "markdown",
      "source": [
        "# Testing"
      ],
      "metadata": {
        "id": "Riixx3R2b6L_"
      }
    },
    {
      "cell_type": "markdown",
      "source": [
        "## XLM-RoBERTa"
      ],
      "metadata": {
        "id": "uoVHHRfMcOc-"
      }
    },
    {
      "cell_type": "code",
      "source": [
        "# Test the model for 5 authors on CSFD dataset\n",
        "! python masters-thesis/main.py -v test xlm-roberta \\\n",
        "  --model \"models/csfd/xlm_roberta_top5/checkpoint-123\" \\\n",
        "  --testing-set \"datasets/csfd/test_top5.csv\" \\\n",
        "  -o \"models/csfd/ensemble_5\""
      ],
      "metadata": {
        "id": "rYEHHvTVb75m"
      },
      "execution_count": null,
      "outputs": []
    },
    {
      "cell_type": "markdown",
      "source": [
        "## Ensemble"
      ],
      "metadata": {
        "id": "V9mMXviNcu09"
      }
    },
    {
      "cell_type": "code",
      "source": [
        "# Test the model for 5 authors on CSFD dataset\n",
        "! python masters-thesis/main.py -v test ensemble \\\n",
        "  --model \"models/csfd/xlm_roberta_top5/checkpoint-123\" \\\n",
        "  --testing-set \"datasets/csfd/test_top5.csv\" \\\n",
        "  --classifiers-dir \"models/csfd/ensemble_5\""
      ],
      "metadata": {
        "id": "xLSVrdjCcuOb"
      },
      "execution_count": null,
      "outputs": []
    },
    {
      "cell_type": "markdown",
      "source": [
        "## Llama 3.1"
      ],
      "metadata": {
        "id": "vRE-SMzzd3kI"
      }
    },
    {
      "cell_type": "code",
      "source": [
        "# Test the model for 5 authors on CSFD dataset\n",
        "! python masters-thesis/main.py -v test llama3 \\\n",
        "  --output-dir \"results/csfd\" \\\n",
        "  --testing-set \"datasets/csfd/test_prompts_5authors_3reps.csv\" \\\n",
        "  # --model-name \"RaZiX/Llama-3.1-8B-Instruct-AA\" \\  # You can provide a HuggingFace model name to test fine-tuned model\n",
        "  --template \"cz\"  # \"cz-1shot\" for 1-shot scenario"
      ],
      "metadata": {
        "id": "_EfsGOzDd23K"
      },
      "execution_count": null,
      "outputs": []
    },
    {
      "cell_type": "markdown",
      "source": [
        "## Mistral"
      ],
      "metadata": {
        "id": "lk-vIJ19euYH"
      }
    },
    {
      "cell_type": "code",
      "source": [
        "# Test the model for 5 authors on CSFD dataset\n",
        "! python masters-thesis/main.py -v test mistral \\\n",
        "  --output-dir \"results/csfd\" \\\n",
        "  --testing-set \"datasets/csfd/test_prompts_5authors_3reps.csv\" \\\n",
        "  # --model-name \"RaZiX/Mistral-7B-Instruct-v0.3-AA\" \\  # You can provide a HuggingFace model name to test fine-tuned model\n",
        "  --template \"cz\"  # \"cz-1shot\" for 1-shot scenario"
      ],
      "metadata": {
        "id": "b7xk3H2eewKa"
      },
      "execution_count": null,
      "outputs": []
    },
    {
      "cell_type": "markdown",
      "source": [
        "## GPT-4o"
      ],
      "metadata": {
        "id": "l7VOmWzTfc89"
      }
    },
    {
      "cell_type": "code",
      "source": [
        "# Test the model for 5 authors on CSFD dataset\n",
        "! python masters-thesis/main.py -v test gpt-4o \\\n",
        "  --output-dir \"results/csfd\" \\\n",
        "  --testing-set \"datasets/csfd/test_prompts_5authors_3reps.csv\" \\\n",
        "  --template \"cz\"  # \"cz-1shot\" for 1-shot scenario \\\n",
        "  # --openai-api-key \"KEY\"  # Can also be provided as environment variable"
      ],
      "metadata": {
        "id": "eEmuzyWFfVMa"
      },
      "execution_count": null,
      "outputs": []
    }
  ]
}