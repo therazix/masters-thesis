{
  "nbformat": 4,
  "nbformat_minor": 0,
  "metadata": {
    "colab": {
      "provenance": [],
      "gpuType": "T4"
    },
    "kernelspec": {
      "name": "python3",
      "display_name": "Python 3"
    },
    "language_info": {
      "name": "python"
    },
    "widgets": {
      "application/vnd.jupyter.widget-state+json": {
        "4d64c0454f4847589df09df5396b2e03": {
          "model_module": "@jupyter-widgets/controls",
          "model_name": "HBoxModel",
          "model_module_version": "1.5.0",
          "state": {
            "_dom_classes": [],
            "_model_module": "@jupyter-widgets/controls",
            "_model_module_version": "1.5.0",
            "_model_name": "HBoxModel",
            "_view_count": null,
            "_view_module": "@jupyter-widgets/controls",
            "_view_module_version": "1.5.0",
            "_view_name": "HBoxView",
            "box_style": "",
            "children": [
              "IPY_MODEL_e089932cdd1540728a9dd9049afa302e",
              "IPY_MODEL_7e82e192198440558bf0863c7344af62",
              "IPY_MODEL_49cef318d9a74939aa57a959ba12aac2"
            ],
            "layout": "IPY_MODEL_abed5e440f544b1d8f5cf9415fcc20a5"
          }
        },
        "e089932cdd1540728a9dd9049afa302e": {
          "model_module": "@jupyter-widgets/controls",
          "model_name": "HTMLModel",
          "model_module_version": "1.5.0",
          "state": {
            "_dom_classes": [],
            "_model_module": "@jupyter-widgets/controls",
            "_model_module_version": "1.5.0",
            "_model_name": "HTMLModel",
            "_view_count": null,
            "_view_module": "@jupyter-widgets/controls",
            "_view_module_version": "1.5.0",
            "_view_name": "HTMLView",
            "description": "",
            "description_tooltip": null,
            "layout": "IPY_MODEL_056abee8874a4574ad6975a56d25464f",
            "placeholder": "​",
            "style": "IPY_MODEL_37ac289f11f544d292a5ba767de4abd4",
            "value": "Downloading builder script: 100%"
          }
        },
        "7e82e192198440558bf0863c7344af62": {
          "model_module": "@jupyter-widgets/controls",
          "model_name": "FloatProgressModel",
          "model_module_version": "1.5.0",
          "state": {
            "_dom_classes": [],
            "_model_module": "@jupyter-widgets/controls",
            "_model_module_version": "1.5.0",
            "_model_name": "FloatProgressModel",
            "_view_count": null,
            "_view_module": "@jupyter-widgets/controls",
            "_view_module_version": "1.5.0",
            "_view_name": "ProgressView",
            "bar_style": "success",
            "description": "",
            "description_tooltip": null,
            "layout": "IPY_MODEL_639d43d6c4f14f8aad2cb86053092d4b",
            "max": 4203,
            "min": 0,
            "orientation": "horizontal",
            "style": "IPY_MODEL_c2234d19228346f084da8f1a1cb609ff",
            "value": 4203
          }
        },
        "49cef318d9a74939aa57a959ba12aac2": {
          "model_module": "@jupyter-widgets/controls",
          "model_name": "HTMLModel",
          "model_module_version": "1.5.0",
          "state": {
            "_dom_classes": [],
            "_model_module": "@jupyter-widgets/controls",
            "_model_module_version": "1.5.0",
            "_model_name": "HTMLModel",
            "_view_count": null,
            "_view_module": "@jupyter-widgets/controls",
            "_view_module_version": "1.5.0",
            "_view_name": "HTMLView",
            "description": "",
            "description_tooltip": null,
            "layout": "IPY_MODEL_4accc7d9848e4960af3fe21a9ad18d05",
            "placeholder": "​",
            "style": "IPY_MODEL_e4c2ff3127b04437912ad25f1f3d15b8",
            "value": " 4.20k/4.20k [00:00&lt;00:00, 232kB/s]"
          }
        },
        "abed5e440f544b1d8f5cf9415fcc20a5": {
          "model_module": "@jupyter-widgets/base",
          "model_name": "LayoutModel",
          "model_module_version": "1.2.0",
          "state": {
            "_model_module": "@jupyter-widgets/base",
            "_model_module_version": "1.2.0",
            "_model_name": "LayoutModel",
            "_view_count": null,
            "_view_module": "@jupyter-widgets/base",
            "_view_module_version": "1.2.0",
            "_view_name": "LayoutView",
            "align_content": null,
            "align_items": null,
            "align_self": null,
            "border": null,
            "bottom": null,
            "display": null,
            "flex": null,
            "flex_flow": null,
            "grid_area": null,
            "grid_auto_columns": null,
            "grid_auto_flow": null,
            "grid_auto_rows": null,
            "grid_column": null,
            "grid_gap": null,
            "grid_row": null,
            "grid_template_areas": null,
            "grid_template_columns": null,
            "grid_template_rows": null,
            "height": null,
            "justify_content": null,
            "justify_items": null,
            "left": null,
            "margin": null,
            "max_height": null,
            "max_width": null,
            "min_height": null,
            "min_width": null,
            "object_fit": null,
            "object_position": null,
            "order": null,
            "overflow": null,
            "overflow_x": null,
            "overflow_y": null,
            "padding": null,
            "right": null,
            "top": null,
            "visibility": null,
            "width": null
          }
        },
        "056abee8874a4574ad6975a56d25464f": {
          "model_module": "@jupyter-widgets/base",
          "model_name": "LayoutModel",
          "model_module_version": "1.2.0",
          "state": {
            "_model_module": "@jupyter-widgets/base",
            "_model_module_version": "1.2.0",
            "_model_name": "LayoutModel",
            "_view_count": null,
            "_view_module": "@jupyter-widgets/base",
            "_view_module_version": "1.2.0",
            "_view_name": "LayoutView",
            "align_content": null,
            "align_items": null,
            "align_self": null,
            "border": null,
            "bottom": null,
            "display": null,
            "flex": null,
            "flex_flow": null,
            "grid_area": null,
            "grid_auto_columns": null,
            "grid_auto_flow": null,
            "grid_auto_rows": null,
            "grid_column": null,
            "grid_gap": null,
            "grid_row": null,
            "grid_template_areas": null,
            "grid_template_columns": null,
            "grid_template_rows": null,
            "height": null,
            "justify_content": null,
            "justify_items": null,
            "left": null,
            "margin": null,
            "max_height": null,
            "max_width": null,
            "min_height": null,
            "min_width": null,
            "object_fit": null,
            "object_position": null,
            "order": null,
            "overflow": null,
            "overflow_x": null,
            "overflow_y": null,
            "padding": null,
            "right": null,
            "top": null,
            "visibility": null,
            "width": null
          }
        },
        "37ac289f11f544d292a5ba767de4abd4": {
          "model_module": "@jupyter-widgets/controls",
          "model_name": "DescriptionStyleModel",
          "model_module_version": "1.5.0",
          "state": {
            "_model_module": "@jupyter-widgets/controls",
            "_model_module_version": "1.5.0",
            "_model_name": "DescriptionStyleModel",
            "_view_count": null,
            "_view_module": "@jupyter-widgets/base",
            "_view_module_version": "1.2.0",
            "_view_name": "StyleView",
            "description_width": ""
          }
        },
        "639d43d6c4f14f8aad2cb86053092d4b": {
          "model_module": "@jupyter-widgets/base",
          "model_name": "LayoutModel",
          "model_module_version": "1.2.0",
          "state": {
            "_model_module": "@jupyter-widgets/base",
            "_model_module_version": "1.2.0",
            "_model_name": "LayoutModel",
            "_view_count": null,
            "_view_module": "@jupyter-widgets/base",
            "_view_module_version": "1.2.0",
            "_view_name": "LayoutView",
            "align_content": null,
            "align_items": null,
            "align_self": null,
            "border": null,
            "bottom": null,
            "display": null,
            "flex": null,
            "flex_flow": null,
            "grid_area": null,
            "grid_auto_columns": null,
            "grid_auto_flow": null,
            "grid_auto_rows": null,
            "grid_column": null,
            "grid_gap": null,
            "grid_row": null,
            "grid_template_areas": null,
            "grid_template_columns": null,
            "grid_template_rows": null,
            "height": null,
            "justify_content": null,
            "justify_items": null,
            "left": null,
            "margin": null,
            "max_height": null,
            "max_width": null,
            "min_height": null,
            "min_width": null,
            "object_fit": null,
            "object_position": null,
            "order": null,
            "overflow": null,
            "overflow_x": null,
            "overflow_y": null,
            "padding": null,
            "right": null,
            "top": null,
            "visibility": null,
            "width": null
          }
        },
        "c2234d19228346f084da8f1a1cb609ff": {
          "model_module": "@jupyter-widgets/controls",
          "model_name": "ProgressStyleModel",
          "model_module_version": "1.5.0",
          "state": {
            "_model_module": "@jupyter-widgets/controls",
            "_model_module_version": "1.5.0",
            "_model_name": "ProgressStyleModel",
            "_view_count": null,
            "_view_module": "@jupyter-widgets/base",
            "_view_module_version": "1.2.0",
            "_view_name": "StyleView",
            "bar_color": null,
            "description_width": ""
          }
        },
        "4accc7d9848e4960af3fe21a9ad18d05": {
          "model_module": "@jupyter-widgets/base",
          "model_name": "LayoutModel",
          "model_module_version": "1.2.0",
          "state": {
            "_model_module": "@jupyter-widgets/base",
            "_model_module_version": "1.2.0",
            "_model_name": "LayoutModel",
            "_view_count": null,
            "_view_module": "@jupyter-widgets/base",
            "_view_module_version": "1.2.0",
            "_view_name": "LayoutView",
            "align_content": null,
            "align_items": null,
            "align_self": null,
            "border": null,
            "bottom": null,
            "display": null,
            "flex": null,
            "flex_flow": null,
            "grid_area": null,
            "grid_auto_columns": null,
            "grid_auto_flow": null,
            "grid_auto_rows": null,
            "grid_column": null,
            "grid_gap": null,
            "grid_row": null,
            "grid_template_areas": null,
            "grid_template_columns": null,
            "grid_template_rows": null,
            "height": null,
            "justify_content": null,
            "justify_items": null,
            "left": null,
            "margin": null,
            "max_height": null,
            "max_width": null,
            "min_height": null,
            "min_width": null,
            "object_fit": null,
            "object_position": null,
            "order": null,
            "overflow": null,
            "overflow_x": null,
            "overflow_y": null,
            "padding": null,
            "right": null,
            "top": null,
            "visibility": null,
            "width": null
          }
        },
        "e4c2ff3127b04437912ad25f1f3d15b8": {
          "model_module": "@jupyter-widgets/controls",
          "model_name": "DescriptionStyleModel",
          "model_module_version": "1.5.0",
          "state": {
            "_model_module": "@jupyter-widgets/controls",
            "_model_module_version": "1.5.0",
            "_model_name": "DescriptionStyleModel",
            "_view_count": null,
            "_view_module": "@jupyter-widgets/base",
            "_view_module_version": "1.2.0",
            "_view_name": "StyleView",
            "description_width": ""
          }
        }
      }
    },
    "accelerator": "GPU"
  },
  "cells": [
    {
      "cell_type": "code",
      "execution_count": null,
      "metadata": {
        "id": "jhBuiPYqRL8v"
      },
      "outputs": [],
      "source": [
        "# Print GPU info\n",
        "from tensorflow.python.client import device_lib\n",
        "device_lib.list_local_devices()"
      ]
    },
    {
      "cell_type": "code",
      "source": [
        "# Install required packages\n",
        "! pip install --upgrade nltk\n",
        "! pip install evaluate transformers datasets pandarallel"
      ],
      "metadata": {
        "id": "_nFJ_WAvRlFz"
      },
      "execution_count": null,
      "outputs": []
    },
    {
      "cell_type": "code",
      "source": [
        "# Imports\n",
        "import evaluate\n",
        "import heapq\n",
        "import huggingface_hub\n",
        "import nltk\n",
        "import numpy as np\n",
        "import pandas as pd\n",
        "import pickle\n",
        "from collections import Counter\n",
        "from datasets import Dataset, load_dataset\n",
        "from google.colab import drive\n",
        "from nltk.util import ngrams\n",
        "from pandarallel import pandarallel\n",
        "from pathlib import Path\n",
        "from sklearn.linear_model import LogisticRegression\n",
        "from sklearn.metrics import accuracy_score, f1_score, precision_recall_fscore_support\n",
        "from transformers import AutoModelForSequenceClassification, AutoTokenizer, DataCollatorWithPadding, Trainer, TrainingArguments"
      ],
      "metadata": {
        "id": "hfHer-okXAOV"
      },
      "execution_count": 2,
      "outputs": []
    },
    {
      "cell_type": "code",
      "source": [
        "# Mount drive\n",
        "drive.mount('/content/drive', force_remount=True)\n",
        "!ls \"/content/drive/My Drive\""
      ],
      "metadata": {
        "id": "R0wJno2CSB5q"
      },
      "execution_count": null,
      "outputs": []
    },
    {
      "cell_type": "code",
      "source": [
        "# Set required variables\n",
        "checkpoint_folder_root = Path('/content/drive/My Drive/DP/checkpoints')\n",
        "models_folder_root = Path('/content/drive/My Drive/DP/models')\n",
        "dataset_folder_root = Path('/content/drive/My Drive/DP/datasets/csfd')\n",
        "\n",
        "train_file_path = dataset_folder_root / 'train_top5_withoutOOC.csv'\n",
        "test_file_path = dataset_folder_root / 'test_top5_withoutOOC.csv'\n",
        "\n",
        "checkpoint_folder = checkpoint_folder_root / 'xlm-roberta'\n",
        "\n",
        "xlmroberta_folder = models_folder_root / 'xlm-roberta'\n",
        "style_lr_folder = models_folder_root / 'style-lr'\n",
        "ngrams_lr_folder = models_folder_root / 'ngrams-lr'\n",
        "final_lr_folder = models_folder_root / 'final-lr'\n",
        "\n",
        "model_base = 'xlm-roberta-base'"
      ],
      "metadata": {
        "id": "fKc94gFyXvXY"
      },
      "execution_count": 4,
      "outputs": []
    },
    {
      "cell_type": "code",
      "source": [
        "# Ensure all directories exist\n",
        "dataset_folder_root.mkdir(parents=True, exist_ok=True)\n",
        "checkpoint_folder.mkdir(parents=True, exist_ok=True)\n",
        "xlmroberta_folder.mkdir(parents=True, exist_ok=True)\n",
        "style_lr_folder.mkdir(parents=True, exist_ok=True)\n",
        "ngrams_lr_folder.mkdir(parents=True, exist_ok=True)\n",
        "final_lr_folder.mkdir(parents=True, exist_ok=True)"
      ],
      "metadata": {
        "id": "UfeD_UEAZThT"
      },
      "execution_count": 5,
      "outputs": []
    },
    {
      "cell_type": "code",
      "source": [
        "def return_best_bi_grams(text):\n",
        "  bigrams = ngrams(text,2)\n",
        "\n",
        "  data = dict(Counter(bigrams))\n",
        "  list_ngrams = heapq.nlargest(100, data.keys(), key=lambda k: data[k])\n",
        "  return list_ngrams\n",
        "\n",
        "def return_best_tri_grams(text):\n",
        "  trigrams = ngrams(text,3)\n",
        "\n",
        "  data = dict(Counter(trigrams))\n",
        "  list_ngrams = heapq.nlargest(100, data.keys(), key=lambda k: data[k])\n",
        "  return list_ngrams\n",
        "\n",
        "def find_freq_n_gram_in_txt(text, list_bigram, list_trigram):\n",
        "  to_ret = []\n",
        "\n",
        "  num_bigrams = len(Counter(zip(text,text[1:])))\n",
        "  num_trigrams = len(Counter(zip(text,text[1:],text[2:])))\n",
        "\n",
        "  for n_gram in list_bigram:\n",
        "      to_ret.append(text.count(''.join(n_gram))/num_bigrams)\n",
        "\n",
        "  for n_gram in list_trigram:\n",
        "      to_ret.append(text.count(''.join(n_gram))/num_trigrams)\n",
        "\n",
        "  return to_ret"
      ],
      "metadata": {
        "id": "n_Of0bZXJKu7"
      },
      "execution_count": 9,
      "outputs": []
    },
    {
      "cell_type": "code",
      "source": [
        "# Load datasets\n",
        "train_df = pd.read_csv(train_file_path)\n",
        "test_df = pd.read_csv(test_file_path)\n",
        "\n",
        "# Split datasets into feature dataset and dataset with labels and text\n",
        "train_features_df = train_df.drop(columns=['label', 'text'])\n",
        "test_features_df = test_df.drop(columns=['label', 'text'])\n",
        "train_df = train_df[['label', 'text']]\n",
        "test_df = test_df[['label', 'text']]\n",
        "\n",
        "text = \" \".join(pd.concat([train_df, test_df], ignore_index=True)['text'].values)\n",
        "list_bigram = return_best_bi_grams(text)\n",
        "list_trigram = return_best_tri_grams(text)\n",
        "\n",
        "train_ds = Dataset.from_pandas(train_df, split=\"train\")\n",
        "test_ds = Dataset.from_pandas(test_df, split=\"test\")\n",
        "\n",
        "train_ds[0]"
      ],
      "metadata": {
        "colab": {
          "base_uri": "https://localhost:8080/"
        },
        "id": "xsFgDrU2RweB",
        "outputId": "aa661042-2ceb-472a-f0ca-68ab25621382"
      },
      "execution_count": 10,
      "outputs": [
        {
          "output_type": "execute_result",
          "data": {
            "text/plain": [
              "{'label': 3,\n",
              " 'text': 'Abych pravdu řekl, příliš jsem si od pátého pokračování této franšízy nesliboval a ve výsledku jsem tak nebyl nemile překvapen. Přes množství různých akčních scén a typických honiček jsem se po většinu času mírně nudil; ne, že by se o mě pokoušel spánek, na to se tam stále něco dělo, problém byl spíš v tom, že mě snímek za celou dobu nedokázal doopravdy zaujmout. Myslel jsem si, že filmu zajistí alespoň jednu pěticípou nostalgická nálada, se kterou jsem najisto počítal, k mému rozčarování ale s nostalgií kalkulovali i tvůrci, kteří celou záležitost prošpikovali odkazy na předchozí díly, a z toho, jak zalidnili děj postavami z Indyho minulosti, usuzuji, že jsou i samotní tvůrci zkušenými archeology. Celkově šlo spíše o vzpomínkový počin, v němž vystupovalo až příliš mnoho starých známých, recyklovala se nejen zápletka s nácky, protože došlo i na dětského hrdinu, nezapomnělo se na různá oku nelahodící lezolata, a kdyby to pomaleji chápajícím divákům nestačilo, doprovázelo každý kontakt s kloboukem notoricky známé hudební téma. Ale přes všechno to frflání jsem si našel momenty, které mě mocné pobavily, jen jsou to, bohužel, ty, na něž by tvůrci neměli být hrdí. Fakt si myslím, že není dobrým nápadem, když filmaře nadchnou bombardéry Luftwaffe tak mocně, že se pak rozhodnou vytvořit hybrid mezi Heinkelem 111 a Dornierem sedmnáctkou. A aby toho nebylo málo, ještě tomu zmrzačenému chudákovi naflákají svazky paklíčů na vnitřní strany svislých ocasních ploch. Už jsem tedy viděl leccos, ale tohle pro mě byla premiéra. Ale zato jsem se zasmál znovu i teď, když jsem to napsal, a to se počítá:-) / Poučení: Chceš-li spolehlivě naštvat generálmajora, oslovuj ho jako plukovníka.'}"
            ]
          },
          "metadata": {},
          "execution_count": 10
        }
      ]
    },
    {
      "cell_type": "code",
      "source": [
        "# Define metric function\n",
        "accuracy = evaluate.load(\"accuracy\")\n",
        "\n",
        "def compute_metrics(pred):\n",
        "    labels = pred.label_ids\n",
        "    preds = pred.predictions.argmax(-1)\n",
        "    precision, recall, f1, _ = precision_recall_fscore_support(labels, preds, average='macro')\n",
        "    acc = accuracy.compute(references=labels, predictions=preds)\n",
        "    return {\n",
        "        'accuracy': acc[\"accuracy\"],\n",
        "        'f1': f1,\n",
        "        'precision': precision,\n",
        "        'recall': recall\n",
        "    }"
      ],
      "metadata": {
        "id": "HPOWO_SEVAv4",
        "colab": {
          "base_uri": "https://localhost:8080/",
          "height": 49,
          "referenced_widgets": [
            "4d64c0454f4847589df09df5396b2e03",
            "e089932cdd1540728a9dd9049afa302e",
            "7e82e192198440558bf0863c7344af62",
            "49cef318d9a74939aa57a959ba12aac2",
            "abed5e440f544b1d8f5cf9415fcc20a5",
            "056abee8874a4574ad6975a56d25464f",
            "37ac289f11f544d292a5ba767de4abd4",
            "639d43d6c4f14f8aad2cb86053092d4b",
            "c2234d19228346f084da8f1a1cb609ff",
            "4accc7d9848e4960af3fe21a9ad18d05",
            "e4c2ff3127b04437912ad25f1f3d15b8"
          ]
        },
        "outputId": "b7653f13-2796-468b-97ac-98a09dab977c"
      },
      "execution_count": 11,
      "outputs": [
        {
          "output_type": "display_data",
          "data": {
            "text/plain": [
              "Downloading builder script:   0%|          | 0.00/4.20k [00:00<?, ?B/s]"
            ],
            "application/vnd.jupyter.widget-view+json": {
              "version_major": 2,
              "version_minor": 0,
              "model_id": "4d64c0454f4847589df09df5396b2e03"
            }
          },
          "metadata": {}
        }
      ]
    },
    {
      "cell_type": "code",
      "source": [
        "# Tokenize dataset\n",
        "tokenizer = AutoTokenizer.from_pretrained(model_base)\n",
        "\n",
        "def tokenize_function(examples):\n",
        "    return tokenizer(examples[\"text\"], truncation=True)\n",
        "\n",
        "tokenized_train_ds = train_ds.map(tokenize_function, batched=True)\n",
        "tokenized_test_ds = test_ds.map(tokenize_function, batched=True)\n",
        "\n",
        "tokenized_train_ds[0]\n",
        "\n",
        "# Create data collator\n",
        "data_collator = DataCollatorWithPadding(tokenizer=tokenizer)"
      ],
      "metadata": {
        "id": "i_t6vVhvT_Bc"
      },
      "execution_count": null,
      "outputs": []
    },
    {
      "cell_type": "code",
      "source": [
        "author_names = test_df['label'].unique()\n",
        "num_of_authors = len(author_names)\n",
        "id2label = {int(i): str(author_names[i]) for i in range(num_of_authors)}\n",
        "label2id = {str(author_names[i]): int(i) for i in range(num_of_authors)}"
      ],
      "metadata": {
        "id": "H-ub-J59zzit"
      },
      "execution_count": 24,
      "outputs": []
    },
    {
      "cell_type": "code",
      "source": [
        "# Create model and training arguments\n",
        "\n",
        "model = AutoModelForSequenceClassification.from_pretrained(\n",
        "    model_base, num_labels=num_of_authors, id2label=id2label, label2id=label2id\n",
        ")\n",
        "\n",
        "training_args = TrainingArguments(\n",
        "    output_dir=str(checkpoint_folder),\n",
        "    learning_rate=2e-5,\n",
        "    per_device_train_batch_size=12,\n",
        "    per_device_eval_batch_size=12,\n",
        "    num_train_epochs=2, # 10\n",
        "    weight_decay=0.01,\n",
        "    evaluation_strategy=\"epoch\",\n",
        "    save_strategy=\"epoch\",\n",
        "    save_total_limit=1,\n",
        "    load_best_model_at_end=True,\n",
        "    push_to_hub=False,\n",
        "    report_to=[\"tensorboard\"],\n",
        ")\n",
        "\n",
        "\n",
        "trainer = Trainer(\n",
        "    model=model,\n",
        "    args=training_args,\n",
        "    train_dataset=tokenized_train_ds,\n",
        "    eval_dataset=tokenized_test_ds,\n",
        "    tokenizer=tokenizer,\n",
        "    data_collator=data_collator,\n",
        "    compute_metrics=compute_metrics,\n",
        ")"
      ],
      "metadata": {
        "id": "traF5JTzUboZ"
      },
      "execution_count": null,
      "outputs": []
    },
    {
      "cell_type": "code",
      "source": [
        "# Train the model\n",
        "trainer.train()\n",
        "\n",
        "# Save the model\n",
        "tokenizer.save_pretrained(str(xlmroberta_folder))\n",
        "trainer.save_model(str(xlmroberta_folder))"
      ],
      "metadata": {
        "colab": {
          "base_uri": "https://localhost:8080/",
          "height": 138
        },
        "id": "QBWq8A262Hvq",
        "outputId": "cacbf0da-ad06-49b9-d9e5-f9191eccc3e4"
      },
      "execution_count": 27,
      "outputs": [
        {
          "output_type": "display_data",
          "data": {
            "text/plain": [
              "<IPython.core.display.HTML object>"
            ],
            "text/html": [
              "\n",
              "    <div>\n",
              "      \n",
              "      <progress value='1880' max='1880' style='width:300px; height:20px; vertical-align: middle;'></progress>\n",
              "      [1880/1880 35:42, Epoch 2/2]\n",
              "    </div>\n",
              "    <table border=\"1\" class=\"dataframe\">\n",
              "  <thead>\n",
              " <tr style=\"text-align: left;\">\n",
              "      <th>Epoch</th>\n",
              "      <th>Training Loss</th>\n",
              "      <th>Validation Loss</th>\n",
              "      <th>Accuracy</th>\n",
              "      <th>F1</th>\n",
              "      <th>Precision</th>\n",
              "      <th>Recall</th>\n",
              "    </tr>\n",
              "  </thead>\n",
              "  <tbody>\n",
              "    <tr>\n",
              "      <td>1</td>\n",
              "      <td>0.663100</td>\n",
              "      <td>0.253165</td>\n",
              "      <td>0.909888</td>\n",
              "      <td>0.909809</td>\n",
              "      <td>0.912003</td>\n",
              "      <td>0.909937</td>\n",
              "    </tr>\n",
              "    <tr>\n",
              "      <td>2</td>\n",
              "      <td>0.182700</td>\n",
              "      <td>0.166228</td>\n",
              "      <td>0.947634</td>\n",
              "      <td>0.947958</td>\n",
              "      <td>0.948380</td>\n",
              "      <td>0.947658</td>\n",
              "    </tr>\n",
              "  </tbody>\n",
              "</table><p>"
            ]
          },
          "metadata": {}
        }
      ]
    },
    {
      "cell_type": "code",
      "source": [
        "from scipy.special import softmax"
      ],
      "metadata": {
        "id": "IwqfNFIWpNti"
      },
      "execution_count": 45,
      "outputs": []
    },
    {
      "cell_type": "code",
      "source": [
        "output = trainer.predict(tokenized_test_ds)\n",
        "roberta_test_output = output.predictions\n",
        "\n",
        "output = trainer.predict(tokenized_train_ds)\n",
        "roberta_train_output = output.predictions"
      ],
      "metadata": {
        "id": "iLtF3mxcNamx"
      },
      "execution_count": null,
      "outputs": []
    },
    {
      "cell_type": "code",
      "source": [
        "# Style-based classifier\n",
        "style_clf = LogisticRegression(random_state=0).fit(train_features_df, train_df['label'])\n",
        "style_test_pred = style_clf.predict(test_features_df)\n",
        "style_test_proba = style_clf.predict_proba(test_features_df)\n",
        "style_train_proba = style_clf.predict_proba(train_features_df)\n",
        "\n",
        "style_score = accuracy_score(test_df['label'], style_test_pred)\n",
        "style_f1 = f1_score(test_df['label'], style_test_pred, average='macro')\n",
        "\n",
        "print(\"Style accuracy is: \", style_score)\n",
        "print(\"Style f1-score is: \", style_f1)\n",
        "\n",
        "# Save model\n",
        "filepath = style_lr_folder / 'style_clf.pkl'\n",
        "with filepath.open(\"wb\") as f:\n",
        "  pickle.dump(style_clf, f)"
      ],
      "metadata": {
        "colab": {
          "base_uri": "https://localhost:8080/"
        },
        "id": "JN0nNpgwCUVM",
        "outputId": "8efba9e2-aa34-4cbf-f425-bac1d77c6713"
      },
      "execution_count": 54,
      "outputs": [
        {
          "output_type": "stream",
          "name": "stdout",
          "text": [
            "(3762,)\n",
            "2\n",
            "(3762, 5)\n",
            "[0.01828129 0.18770114 0.44851867 0.16242188 0.18307702]\n",
            "Style training done, accuracy is :  0.4864433811802233\n",
            "Style training done, f1-score is :  0.4568892384825438\n"
          ]
        },
        {
          "output_type": "stream",
          "name": "stderr",
          "text": [
            "/usr/local/lib/python3.10/dist-packages/sklearn/linear_model/_logistic.py:460: ConvergenceWarning: lbfgs failed to converge (status=1):\n",
            "STOP: TOTAL NO. of ITERATIONS REACHED LIMIT.\n",
            "\n",
            "Increase the number of iterations (max_iter) or scale the data as shown in:\n",
            "    https://scikit-learn.org/stable/modules/preprocessing.html\n",
            "Please also refer to the documentation for alternative solver options:\n",
            "    https://scikit-learn.org/stable/modules/linear_model.html#logistic-regression\n",
            "  n_iter_i = _check_optimize_result(\n"
          ]
        }
      ]
    },
    {
      "cell_type": "code",
      "source": [
        "# Character N-gram classifier\n",
        "train_ngrams = train_df['text'].apply(lambda x: find_freq_n_gram_in_txt(x, list_bigram, list_trigram)).values\n",
        "test_ngrams = test_df['text'].apply(lambda x: find_freq_n_gram_in_txt(x, list_bigram, list_trigram)).values\n",
        "\n",
        "train_ngrams_df = pd.DataFrame(train_ngrams)[0].apply(lambda x: pd.Series(x))\n",
        "test_ngrams_df = pd.DataFrame(test_ngrams)[0].apply(lambda x: pd.Series(x))"
      ],
      "metadata": {
        "id": "pEHMVAi3DWI8"
      },
      "execution_count": 55,
      "outputs": []
    },
    {
      "cell_type": "code",
      "source": [
        "ngrams_clf = LogisticRegression(random_state=0).fit(train_ngrams_df, train_df['label'])\n",
        "ngrams_test_pred = ngrams_clf.predict(test_ngrams_df)\n",
        "ngrams_test_proba = ngrams_clf.predict_proba(test_ngrams_df)\n",
        "ngrams_train_proba = ngrams_clf.predict_proba(train_ngrams_df)\n",
        "\n",
        "ngrams_score = accuracy_score(test_df['label'], ngrams_test_pred)\n",
        "ngrams_f1 = f1_score(test_df['label'], ngrams_test_pred, average='macro')\n",
        "\n",
        "print(\"N-grams accuracy is: \", ngrams_score)\n",
        "print(\"N-grams f1-score is: \", ngrams_f1)\n",
        "\n",
        "# Save model\n",
        "filepath = ngrams_lr_folder / 'ngrams_clf.pkl'\n",
        "with filepath.open(\"wb\") as f:\n",
        "  pickle.dump(ngrams_clf, f)"
      ],
      "metadata": {
        "colab": {
          "base_uri": "https://localhost:8080/"
        },
        "id": "If3HVgqBKfuB",
        "outputId": "eae2e924-8848-4b14-b694-2aa0b06bcb2e"
      },
      "execution_count": 56,
      "outputs": [
        {
          "output_type": "stream",
          "name": "stdout",
          "text": [
            "N-grams training done, accuracy is :  0.73471557682084\n",
            "N-grams training done, f1-score is :  0.7283267184983201\n"
          ]
        }
      ]
    },
    {
      "cell_type": "code",
      "source": [
        "# Combined model\n",
        "train_combined = np.concatenate([roberta_train_output, style_train_proba, ngrams_train_proba], axis=1)\n",
        "test_combined = np.concatenate([roberta_test_output, style_test_proba, ngrams_test_proba], axis=1)\n",
        "\n",
        "final_clf = LogisticRegression(random_state=0).fit(train_combined, train_df['label'])\n",
        "\n",
        "final_pred = final_clf.predict(test_combined)\n",
        "final_score = accuracy_score(test_df['label'], final_pred)\n",
        "final_f1 = f1_score(test_df['label'], final_pred, average='macro')\n",
        "\n",
        "print(\"Final accuracy is: \", final_score)\n",
        "print(\"Final f1-score is: \", final_f1)\n",
        "\n",
        "filepath = final_lr_folder / 'final_clf.pkl'\n",
        "with filepath.open(\"wb\") as f:\n",
        "  pickle.dump(final_clf, f)"
      ],
      "metadata": {
        "colab": {
          "base_uri": "https://localhost:8080/"
        },
        "id": "C4S8RR-yMr6X",
        "outputId": "81d7248f-161f-4710-80df-7e6d9830e83b"
      },
      "execution_count": 57,
      "outputs": [
        {
          "output_type": "stream",
          "name": "stdout",
          "text": [
            "Training done, accuracy is :  0.9516214779372674\n",
            "Training done, f1-score is :  0.9517676883363408\n"
          ]
        },
        {
          "output_type": "stream",
          "name": "stderr",
          "text": [
            "/usr/local/lib/python3.10/dist-packages/sklearn/linear_model/_logistic.py:460: ConvergenceWarning: lbfgs failed to converge (status=1):\n",
            "STOP: TOTAL NO. of ITERATIONS REACHED LIMIT.\n",
            "\n",
            "Increase the number of iterations (max_iter) or scale the data as shown in:\n",
            "    https://scikit-learn.org/stable/modules/preprocessing.html\n",
            "Please also refer to the documentation for alternative solver options:\n",
            "    https://scikit-learn.org/stable/modules/linear_model.html#logistic-regression\n",
            "  n_iter_i = _check_optimize_result(\n"
          ]
        }
      ]
    }
  ]
}